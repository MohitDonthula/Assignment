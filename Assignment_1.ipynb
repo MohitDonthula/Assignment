{
 "cells": [
  {
   "cell_type": "markdown",
   "id": "38a4459d-9547-407c-b79e-5dd7f59a2759",
   "metadata": {},
   "source": [
    "ASSIGNMENT 1"
   ]
  },
  {
   "cell_type": "markdown",
   "id": "ab263741-2385-45df-af40-40dc08b3fd89",
   "metadata": {},
   "source": [
    "1. Who developed Python Programming Language?"
   ]
  },
  {
   "cell_type": "markdown",
   "id": "3b1a9c23-b35d-4b7e-b26c-90a081a1e683",
   "metadata": {},
   "source": [
    "Guido van Rossum is the person who developed python in the year of 1991."
   ]
  },
  {
   "cell_type": "markdown",
   "id": "2fdb77a0-a91a-4fdc-bbe8-7609732917b6",
   "metadata": {},
   "source": [
    "2. Which type of Programming does python support?"
   ]
  },
  {
   "cell_type": "markdown",
   "id": "5d0e2b3d-3961-4477-8e86-2330ec72ef98",
   "metadata": {},
   "source": [
    "Python is a general purpose language, it supports object oriented programming language as well as procedural-oriented programming."
   ]
  },
  {
   "cell_type": "markdown",
   "id": "332822db-4c16-45cc-b21f-49904a94a8c7",
   "metadata": {},
   "source": [
    "3. Is Python case sensitive when dealing with identifiers?"
   ]
  },
  {
   "cell_type": "markdown",
   "id": "9783d217-ceb3-47de-85e2-9e2ce5e9b823",
   "metadata": {},
   "source": [
    "yes,python is a case-sensitive language it treats upper and lower case characters differently and it applies to the identifiers too."
   ]
  },
  {
   "cell_type": "markdown",
   "id": "2e8fc058-01da-40ab-ad6f-45e8a907624d",
   "metadata": {},
   "source": [
    "4. What is the correct extension of the Python file?"
   ]
  },
  {
   "cell_type": "markdown",
   "id": "6aa44ea9-cfda-47ee-a898-b02726291c4a",
   "metadata": {},
   "source": [
    "The correct extension for the python file is .py abd every file should be named by this extension."
   ]
  },
  {
   "cell_type": "markdown",
   "id": "84c8e367-b401-4628-9005-2ad1d2db6c8c",
   "metadata": {},
   "source": [
    "5. Is Python code compiled or interpreted?"
   ]
  },
  {
   "cell_type": "markdown",
   "id": "0583e73c-e5e2-4c33-a3e4-bb664239f36e",
   "metadata": {},
   "source": [
    "Python Programming language is a interpreted language."
   ]
  },
  {
   "cell_type": "markdown",
   "id": "447ee102-448d-4cb4-9d8c-6ea398b2b0c8",
   "metadata": {},
   "source": [
    "6. Name a few blocks of code used to define in Python language?"
   ]
  },
  {
   "cell_type": "markdown",
   "id": "463249b0-180b-4004-a332-936af185c339",
   "metadata": {},
   "source": [
    "A module,function body and a class definition are the few blocks of code used to define in python language."
   ]
  },
  {
   "cell_type": "markdown",
   "id": "45357032-ad66-4759-b695-ca446c9b293c",
   "metadata": {},
   "source": [
    "7.  State a character used to give single-line comments in Python?"
   ]
  },
  {
   "cell_type": "markdown",
   "id": "5967f5ba-1b69-4355-9533-f57ad6e1b6aa",
   "metadata": {},
   "source": [
    "# character is used to give single-line comments in python."
   ]
  },
  {
   "cell_type": "markdown",
   "id": "e6aff703-93a8-4d82-9184-f6ea6925f426",
   "metadata": {},
   "source": [
    "8. Mention functions which can help us to find the version of python that we are currently workng on?"
   ]
  },
  {
   "cell_type": "code",
   "execution_count": null,
   "id": "4ddd00ff-daef-46af-bbfd-c50796cd4cc0",
   "metadata": {},
   "outputs": [],
   "source": [
    "sys. version method, python_version() function are some functions which can help us to find the version of python that we are currently working on."
   ]
  },
  {
   "cell_type": "markdown",
   "id": "3e943a77-55f9-4efd-a774-85c1f12614ec",
   "metadata": {},
   "source": [
    "9. Python supports the creation of anonymous functions at runtime, using a construct called --------"
   ]
  },
  {
   "cell_type": "markdown",
   "id": "122284d2-55a5-4e07-893d-1a093947c1fc",
   "metadata": {},
   "source": [
    "lambda "
   ]
  },
  {
   "cell_type": "markdown",
   "id": "82b89568-fd73-4f53-9a66-185243946ebb",
   "metadata": {},
   "source": [
    "10. What does pip stands for Python?"
   ]
  },
  {
   "cell_type": "markdown",
   "id": "dba04a29-f93d-47a8-8274-162a8811d681",
   "metadata": {},
   "source": [
    "It stands for preferred installer program."
   ]
  },
  {
   "cell_type": "markdown",
   "id": "2a91172d-f208-4c6f-8f8d-f0bf00a15aae",
   "metadata": {},
   "source": [
    "11. Mention a few built-in functions in python?"
   ]
  },
  {
   "cell_type": "markdown",
   "id": "1948f0be-9df6-4d52-ac57-be9d6e3e75b6",
   "metadata": {},
   "source": [
    "len(),type(),print(),input(),sort(),append(),extend(),insert(),remove() are the few built-in functions in python."
   ]
  },
  {
   "cell_type": "markdown",
   "id": "07a0aea7-bc71-4d9c-83a7-6ad2c51c5779",
   "metadata": {},
   "source": [
    "12. What is the maximum possible length of an identifier in python?"
   ]
  },
  {
   "cell_type": "markdown",
   "id": "59c5a572-5629-4e89-8bda-1ee254b762a9",
   "metadata": {},
   "source": [
    "79 Characters is the maximum length of an identifier in python."
   ]
  },
  {
   "cell_type": "markdown",
   "id": "cf587d8b-9e2f-4f3a-8394-6094fdd1301b",
   "metadata": {},
   "source": [
    "13. What are the benefits of using python?"
   ]
  },
  {
   "cell_type": "markdown",
   "id": "5f545bcf-bf1e-42f0-9a49-b03f1f02b9a0",
   "metadata": {},
   "source": [
    "1.It is easy to use.\n",
    "2.Very Simple Syntax.\n",
    "3.Powerful language.\n",
    "4.object oriented programming language.\n",
    "5.It is used in various field like web developed and data science."
   ]
  },
  {
   "cell_type": "markdown",
   "id": "78a2fd1e-2e94-4cbb-ba32-ce06b5bfbdc6",
   "metadata": {},
   "source": [
    "14. How is memory managed in python? "
   ]
  },
  {
   "cell_type": "markdown",
   "id": "e0a8bb3b-ddb9-4095-8dac-bad5d591dcb0",
   "metadata": {},
   "source": [
    "Memory management in Python involves a private heap containing all Python objects and data structures"
   ]
  },
  {
   "cell_type": "markdown",
   "id": "0dd57728-d66d-44e0-8656-8c1b4ba6b541",
   "metadata": {},
   "source": [
    "15. How to install Python on windows and set path variables?"
   ]
  },
  {
   "cell_type": "markdown",
   "id": "4bd8f682-da80-4507-adfb-48464f0e6181",
   "metadata": {},
   "source": [
    "1.Right-clicking This PC and going to Properties.\n",
    "\n",
    "2.Clicking on the Advanced system settings in the menu on the left.\n",
    "\n",
    "3.Clicking on the Environment Variables button o​n the bottom right.\n",
    "\n",
    "4.In the System variables section, selecting the Path variable and clicking on Edit. The next screen will show all the directories that are currently a part of the PATH variable.\n",
    "\n",
    "5.Clicking on New and entering Python’s install directory.\n",
    "\n",
    "Now you are ready to use."
   ]
  },
  {
   "cell_type": "markdown",
   "id": "a108cca1-7007-440c-abee-d806279382a9",
   "metadata": {},
   "source": [
    "16. Is identation required in python?"
   ]
  },
  {
   "cell_type": "markdown",
   "id": "38d055a1-10db-4a34-aab9-b1c38f5b1194",
   "metadata": {},
   "source": [
    "Yes, indentation is important in Python."
   ]
  }
 ],
 "metadata": {
  "kernelspec": {
   "display_name": "Python 3 (ipykernel)",
   "language": "python",
   "name": "python3"
  },
  "language_info": {
   "codemirror_mode": {
    "name": "ipython",
    "version": 3
   },
   "file_extension": ".py",
   "mimetype": "text/x-python",
   "name": "python",
   "nbconvert_exporter": "python",
   "pygments_lexer": "ipython3",
   "version": "3.10.8"
  }
 },
 "nbformat": 4,
 "nbformat_minor": 5
}
