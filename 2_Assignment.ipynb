{
 "cells": [
  {
   "cell_type": "raw",
   "id": "f24c5379-7968-4563-9a17-27994c77c286",
   "metadata": {},
   "source": [
    "1.Write a program to accept percentage from the user and display the grade according to the following \n",
    "criteria: \n",
    "Marks          Grade\n",
    ">90              A\n",
    ">80 and <=90     B\n",
    ">=60 and <=80    C\n",
    "below 60         D\n"
   ]
  },
  {
   "cell_type": "code",
   "execution_count": 3,
   "id": "1d61fd77-464d-4437-bbdc-e4a5ac14f447",
   "metadata": {},
   "outputs": [
    {
     "name": "stdin",
     "output_type": "stream",
     "text": [
      "Enter Your Marks:  50\n"
     ]
    },
    {
     "name": "stdout",
     "output_type": "stream",
     "text": [
      "You Got a D Grade\n"
     ]
    }
   ],
   "source": [
    "a= int(input(\"Enter Your Marks: \"))\n",
    "if a>90:\n",
    "    print(\"You Got a A Grade\")\n",
    "elif a>80 and a<=90:\n",
    "    print(\"You Got a B Grade\")\n",
    "elif a>=60 and a<=80:\n",
    "    print(\"You Got a C Grade\")\n",
    "else:\n",
    "    print(\"You Got a D Grade\")"
   ]
  },
  {
   "cell_type": "raw",
   "id": "c0561569-7e78-43e4-9894-d3adca8536a7",
   "metadata": {},
   "source": [
    "2.Write a program to accept the cost price of a bike and display the road tax to be paid according to the \n",
    "following criteria: \n",
    "Tax      Cost Price(in Rs)     \n",
    "15%      >100000 \n",
    "10%      >50000 and <= 100000 \n",
    "5%       <= 50000 \n"
   ]
  },
  {
   "cell_type": "code",
   "execution_count": 6,
   "id": "ca83ddd7-a3af-43d2-ad13-710fc4a6aca5",
   "metadata": {},
   "outputs": [
    {
     "name": "stdin",
     "output_type": "stream",
     "text": [
      "Enter Your Cost Price of your bike:  551651\n"
     ]
    },
    {
     "name": "stdout",
     "output_type": "stream",
     "text": [
      "You will be paid for 15% tax\n"
     ]
    }
   ],
   "source": [
    "n=int(input(\"Enter Your Cost Price of your bike: \"))\n",
    "if n>100000:\n",
    "    print(\"You will be paid for 15% tax\")\n",
    "elif n>50000 and n<= 100000:\n",
    "    print(\"You will be paid for 10% tax\")\n",
    "else:\n",
    "    print(\"You will be paid for 5% tax\")\n",
    "    "
   ]
  },
  {
   "cell_type": "raw",
   "id": "d56f363e-5c0f-4d12-9541-e74f5e02b568",
   "metadata": {},
   "source": [
    "3.Accept any city from the user and display monuments of that city. \n",
    "City        Monument \n",
    "Delhi       Red Fort \n",
    "Agra        Taj Mahal \n",
    "Jaipur      Jal Mahal     "
   ]
  },
  {
   "cell_type": "code",
   "execution_count": 12,
   "id": "19e5ea4a-5552-4bb5-9f7c-89e5924def19",
   "metadata": {},
   "outputs": [
    {
     "name": "stdin",
     "output_type": "stream",
     "text": [
      "Enter the City which you want to see the moument:  Delhi\n"
     ]
    },
    {
     "name": "stdout",
     "output_type": "stream",
     "text": [
      "Red Fort\n"
     ]
    }
   ],
   "source": [
    "a = input(\"Enter the City which you want to see the moument: \")\n",
    "if a == \"Delhi\":\n",
    "    print(\"Red Fort\")\n",
    "elif a == \"Agra\":\n",
    "    print(\"Taj Mahal\")\n",
    "elif a == \"Jaipur\":\n",
    "    print(\"Jal Mahal\")\n",
    "else:\n",
    "    print(\"Invalid Input\")"
   ]
  },
  {
   "cell_type": "markdown",
   "id": "d1585b0b-1b87-45c2-8251-e759b0a6b144",
   "metadata": {},
   "source": [
    "4. how many times a given number can be divided by 3 before it is less than or equal to 10. "
   ]
  },
  {
   "cell_type": "code",
   "execution_count": 6,
   "id": "338975ce-8a54-42a0-b365-8292532d3b4e",
   "metadata": {},
   "outputs": [
    {
     "name": "stdin",
     "output_type": "stream",
     "text": [
      "Enter Your Number :  999\n"
     ]
    },
    {
     "data": {
      "text/plain": [
       "3"
      ]
     },
     "execution_count": 6,
     "metadata": {},
     "output_type": "execute_result"
    }
   ],
   "source": [
    "num = int(input(\"Enter Your Number : \"))\n",
    "count = 0\n",
    "\n",
    "while num >= 10 and num % 3 == 0:\n",
    "    num = num/3\n",
    "    count = count + 1\n",
    "\n",
    "count"
   ]
  },
  {
   "cell_type": "markdown",
   "id": "20975bff-0db2-47c4-b3ea-f1b70fcbe0ed",
   "metadata": {},
   "source": [
    "5.Why and When to Use while Loop in Python give a detailed description with example.\n"
   ]
  },
  {
   "cell_type": "markdown",
   "id": "53101e5e-3e0e-491b-a536-0bc9efb08e62",
   "metadata": {},
   "source": [
    "Python while loop is used to run a block code until a certain condition is met. Here, A while loop evaluates the condition. If the condition evaluates to True , the code inside the while loop is executed."
   ]
  },
  {
   "cell_type": "code",
   "execution_count": 8,
   "id": "0c60c079-59cd-48ca-9420-4ea98c39990f",
   "metadata": {},
   "outputs": [
    {
     "name": "stdin",
     "output_type": "stream",
     "text": [
      "Enter Your Number:  5\n"
     ]
    },
    {
     "name": "stdout",
     "output_type": "stream",
     "text": [
      "5\n",
      "6\n",
      "7\n",
      "8\n",
      "9\n",
      "10\n"
     ]
    },
    {
     "data": {
      "text/plain": [
       "11"
      ]
     },
     "execution_count": 8,
     "metadata": {},
     "output_type": "execute_result"
    }
   ],
   "source": [
    "a=int(input(\"Enter Your Number: \"))\n",
    "\n",
    "while a<=10:\n",
    "    print(a)\n",
    "    a=a+1\n",
    "a"
   ]
  },
  {
   "cell_type": "markdown",
   "id": "8ac5ce85-0986-4a0f-8d2e-4c8b7132446a",
   "metadata": {},
   "source": [
    "6. Use nested while loop to print 3 different pattern"
   ]
  },
  {
   "cell_type": "code",
   "execution_count": 10,
   "id": "6784a8fc-35c2-4c1e-9c4a-4249eb495cce",
   "metadata": {},
   "outputs": [
    {
     "name": "stdout",
     "output_type": "stream",
     "text": [
      "1 \n",
      "1 2 \n",
      "1 2 3 \n",
      "1 2 3 4 \n",
      "1 2 3 4 5 \n"
     ]
    }
   ],
   "source": [
    "i=1\n",
    "while i<=5:\n",
    "    j=1\n",
    "    while j<=i:\n",
    "        print(j,end=\" \")\n",
    "        j=j+1\n",
    "    print(\"\\r\")\n",
    "    i=i+1\n"
   ]
  },
  {
   "cell_type": "markdown",
   "id": "7cd91b43-4121-43ac-95a7-4aae9f3c95dd",
   "metadata": {},
   "source": [
    "7. Reverse a while loop to display numbers from 10 to 1."
   ]
  },
  {
   "cell_type": "code",
   "execution_count": 15,
   "id": "d06cc52a-d1cc-49f7-b5c2-f100fda177b6",
   "metadata": {},
   "outputs": [
    {
     "name": "stdout",
     "output_type": "stream",
     "text": [
      "10\n",
      "9\n",
      "8\n",
      "7\n",
      "6\n",
      "5\n",
      "4\n",
      "3\n",
      "2\n"
     ]
    },
    {
     "data": {
      "text/plain": [
       "1"
      ]
     },
     "execution_count": 15,
     "metadata": {},
     "output_type": "execute_result"
    }
   ],
   "source": [
    "a=10\n",
    "\n",
    "while a>1:\n",
    "    print(a)\n",
    "    a=a-1\n",
    "a    "
   ]
  },
  {
   "cell_type": "code",
   "execution_count": null,
   "id": "9e6c3a21-7fb9-4bc5-b6b3-e139b3d61573",
   "metadata": {},
   "outputs": [],
   "source": []
  }
 ],
 "metadata": {
  "kernelspec": {
   "display_name": "Python 3 (ipykernel)",
   "language": "python",
   "name": "python3"
  },
  "language_info": {
   "codemirror_mode": {
    "name": "ipython",
    "version": 3
   },
   "file_extension": ".py",
   "mimetype": "text/x-python",
   "name": "python",
   "nbconvert_exporter": "python",
   "pygments_lexer": "ipython3",
   "version": "3.10.8"
  }
 },
 "nbformat": 4,
 "nbformat_minor": 5
}
