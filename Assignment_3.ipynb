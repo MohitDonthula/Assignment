{
 "cells": [
  {
   "cell_type": "markdown",
   "id": "d660b0df-48b9-4bf6-91ba-d1a4593922ac",
   "metadata": {},
   "source": [
    "ASSIGNMENT - 03"
   ]
  },
  {
   "cell_type": "markdown",
   "id": "8252c1e3-95a0-4c65-a1af-df86893003b7",
   "metadata": {},
   "source": [
    "Q1. Explain Class and Object with respect to Object-Oriented Programming . Give a suitable example"
   ]
  },
  {
   "cell_type": "markdown",
   "id": "fbb463dc-c058-4863-84c6-26e29cbc7db0",
   "metadata": {},
   "source": [
    "CLASS  - It is the blueprint of the real world entity.\n",
    "OBJECT - It is the instance or distinct of the real world entity."
   ]
  },
  {
   "cell_type": "markdown",
   "id": "eaf4cce9-d4a1-4393-b33c-304b9d9740ba",
   "metadata": {},
   "source": [
    " Q2. Name the four pillars of OOPs. "
   ]
  },
  {
   "cell_type": "markdown",
   "id": "128ba1ed-ee6a-433c-98cf-63e637801542",
   "metadata": {},
   "source": [
    "(1. Inheritance)\n",
    "(2. Polymorphism)\n",
    "(3. Encapsulation)\n",
    "(4. Abstraction)"
   ]
  },
  {
   "cell_type": "markdown",
   "id": "ef0e0079-f46f-4397-b44c-402a43d6cc71",
   "metadata": {},
   "source": [
    "Q3. Explain why the __init__() function is used. Give a suitable example"
   ]
  },
  {
   "cell_type": "markdown",
   "id": "fab7e698-7bad-4ee0-b405-cfaf1ebd2543",
   "metadata": {},
   "source": [
    "init() plays a major role in the OOps concept in python. It is the constructor and used to take the input in a object from the user."
   ]
  },
  {
   "cell_type": "code",
   "execution_count": 36,
   "id": "659f6950-8d02-4133-a10f-e19f542796cb",
   "metadata": {},
   "outputs": [],
   "source": [
    "class survey :\n",
    "    \n",
    "    def __init__(self, name, address, family_members, occupation, income):\n",
    "        self.name1 = name\n",
    "        self.address2 = address\n",
    "        self.family_members3 = family_members\n",
    "        self.occupation4 = occupation\n",
    "        self.income5 = income\n",
    "    \n",
    "    def return_survey_details(self):\n",
    "        return self.name1, self.address2 , self.family_members3 , self.occupation4, self.income5"
   ]
  },
  {
   "cell_type": "code",
   "execution_count": 37,
   "id": "5ef813ef-4ce9-4222-a4cb-4493e0efeb92",
   "metadata": {},
   "outputs": [],
   "source": [
    "a = survey(\"Mohit\",\"Mumbai\", 4 , \"Data Scientist\" , 40000)"
   ]
  },
  {
   "cell_type": "code",
   "execution_count": 38,
   "id": "ff672ac4-f242-4c69-b9a8-f8d0843e6cfc",
   "metadata": {},
   "outputs": [
    {
     "data": {
      "text/plain": [
       "('Mohit', 'Mumbai', 4, 'Data Scientist', 40000)"
      ]
     },
     "execution_count": 38,
     "metadata": {},
     "output_type": "execute_result"
    }
   ],
   "source": [
    "a.return_survey_details()"
   ]
  },
  {
   "cell_type": "code",
   "execution_count": 39,
   "id": "e853a734-1888-4ff5-96cd-e891df1ae3b3",
   "metadata": {},
   "outputs": [
    {
     "data": {
      "text/plain": [
       "'Mohit'"
      ]
     },
     "execution_count": 39,
     "metadata": {},
     "output_type": "execute_result"
    }
   ],
   "source": [
    "a.name1"
   ]
  },
  {
   "cell_type": "code",
   "execution_count": 41,
   "id": "301d896a-ba07-467c-86a9-137bf346065f",
   "metadata": {},
   "outputs": [
    {
     "data": {
      "text/plain": [
       "'Mumbai'"
      ]
     },
     "execution_count": 41,
     "metadata": {},
     "output_type": "execute_result"
    }
   ],
   "source": [
    "a.address2"
   ]
  },
  {
   "cell_type": "code",
   "execution_count": 42,
   "id": "e2d8d618-5960-4f65-8df4-613ae93e163c",
   "metadata": {},
   "outputs": [
    {
     "data": {
      "text/plain": [
       "4"
      ]
     },
     "execution_count": 42,
     "metadata": {},
     "output_type": "execute_result"
    }
   ],
   "source": [
    "a.family_members3"
   ]
  },
  {
   "cell_type": "code",
   "execution_count": 44,
   "id": "c91b9976-9923-4201-abf2-0eb470559d07",
   "metadata": {},
   "outputs": [
    {
     "data": {
      "text/plain": [
       "'Data Scientist'"
      ]
     },
     "execution_count": 44,
     "metadata": {},
     "output_type": "execute_result"
    }
   ],
   "source": [
    "a.occupation4"
   ]
  },
  {
   "cell_type": "code",
   "execution_count": 45,
   "id": "b8b9c4b9-917a-46d8-86b9-01d3768fe498",
   "metadata": {},
   "outputs": [
    {
     "data": {
      "text/plain": [
       "40000"
      ]
     },
     "execution_count": 45,
     "metadata": {},
     "output_type": "execute_result"
    }
   ],
   "source": [
    "a.income5"
   ]
  },
  {
   "cell_type": "markdown",
   "id": "337948cb-54d9-47c1-8003-1f67b388e7ab",
   "metadata": {},
   "source": [
    "Q4. Why self is used in OOPs?"
   ]
  },
  {
   "cell_type": "markdown",
   "id": "7eb1b70e-707d-4543-8aa8-cc12ec391d74",
   "metadata": {},
   "source": [
    "Self is a pointer and it is used to take the arguements and give the output according to the user wants.\n",
    "When we want a specific part from the object like a name or address we can get this. As we written in the first function."
   ]
  },
  {
   "cell_type": "markdown",
   "id": "38d51590-961e-42a9-923b-4f7a8e89c1fd",
   "metadata": {},
   "source": [
    "Q5. What is inheritance? Give an example for each type of inheritance. "
   ]
  },
  {
   "cell_type": "code",
   "execution_count": null,
   "id": "7de6a5b7-0a8c-4c0c-afe7-cce516e4beca",
   "metadata": {},
   "outputs": [],
   "source": [
    "Inheritance is the core concept in OOPs.The new child can be created of an existing one.\n",
    "\n",
    "There are 4 types of Inheritance - \n",
    "1. Single Inheritance\n",
    "2. Multiple Inheritance\n",
    "3. Multi-level Inheritance\n",
    "4. Hierarchical inheritance"
   ]
  },
  {
   "cell_type": "code",
   "execution_count": null,
   "id": "134a6a1d-204a-4803-8346-9ee5d1e02851",
   "metadata": {},
   "outputs": [],
   "source": [
    "The Example of the Inheritance is the Car.\n",
    "Here, Car will be the parent class and sports car is the child class and  inherit all the properties of the car such as, engine,seats,doors,tires,glass. "
   ]
  }
 ],
 "metadata": {
  "kernelspec": {
   "display_name": "Python 3 (ipykernel)",
   "language": "python",
   "name": "python3"
  },
  "language_info": {
   "codemirror_mode": {
    "name": "ipython",
    "version": 3
   },
   "file_extension": ".py",
   "mimetype": "text/x-python",
   "name": "python",
   "nbconvert_exporter": "python",
   "pygments_lexer": "ipython3",
   "version": "3.10.8"
  }
 },
 "nbformat": 4,
 "nbformat_minor": 5
}
